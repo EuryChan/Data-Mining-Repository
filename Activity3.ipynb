{
 "cells": [
  {
   "cell_type": "markdown",
   "id": "d5e384b7-8429-4326-bf74-7d11d66e9d0f",
   "metadata": {},
   "source": [
    "<h1> Data Analytics Report </h1>"
   ]
  },
  {
   "cell_type": "markdown",
   "id": "09c8727f-00b8-4cd3-8834-f2c1cce3afe9",
   "metadata": {},
   "source": [
    "<h2> United Kingdom Road Accident Data Analysis </h2>\n",
    "<h3> Inclusive Years: 2019 - 2022</h3>"
   ]
  },
  {
   "cell_type": "markdown",
   "id": "30b18b4f-47b4-4cdc-b495-761516439659",
   "metadata": {},
   "source": [
    "<h1> Importing Libraries</h1>"
   ]
  },
  {
   "cell_type": "code",
   "execution_count": 1,
   "id": "ca921fd2-96a5-49de-9518-567a6ce9a3f8",
   "metadata": {},
   "outputs": [],
   "source": [
    "import pandas as pd\n",
    "import seaborn as sns\n",
    "import matplotlib.pyplot as plt\n",
    "from scipy.stats import f_oneway"
   ]
  },
  {
   "cell_type": "code",
   "execution_count": 2,
   "id": "fcd695f9-d7c2-4722-9d14-83333376c194",
   "metadata": {},
   "outputs": [],
   "source": [
    "accident = pd.read_csv('dataset\\\\accident_data.csv')"
   ]
  },
  {
   "cell_type": "code",
   "execution_count": 3,
   "id": "5ce07212-02f3-4082-b52f-8e6fd531303a",
   "metadata": {},
   "outputs": [
    {
     "data": {
      "text/html": [
       "<div>\n",
       "<style scoped>\n",
       "    .dataframe tbody tr th:only-of-type {\n",
       "        vertical-align: middle;\n",
       "    }\n",
       "\n",
       "    .dataframe tbody tr th {\n",
       "        vertical-align: top;\n",
       "    }\n",
       "\n",
       "    .dataframe thead th {\n",
       "        text-align: right;\n",
       "    }\n",
       "</style>\n",
       "<table border=\"1\" class=\"dataframe\">\n",
       "  <thead>\n",
       "    <tr style=\"text-align: right;\">\n",
       "      <th></th>\n",
       "      <th>Index</th>\n",
       "      <th>Accident_Severity</th>\n",
       "      <th>Accident Date</th>\n",
       "      <th>Latitude</th>\n",
       "      <th>Light_Conditions</th>\n",
       "      <th>District Area</th>\n",
       "      <th>Longitude</th>\n",
       "      <th>Number_of_Casualties</th>\n",
       "      <th>Number_of_Vehicles</th>\n",
       "      <th>Road_Surface_Conditions</th>\n",
       "      <th>Road_Type</th>\n",
       "      <th>Urban_or_Rural_Area</th>\n",
       "      <th>Weather_Conditions</th>\n",
       "      <th>Vehicle_Type</th>\n",
       "    </tr>\n",
       "  </thead>\n",
       "  <tbody>\n",
       "    <tr>\n",
       "      <th>0</th>\n",
       "      <td>200701BS64157</td>\n",
       "      <td>Serious</td>\n",
       "      <td>05/06/2019</td>\n",
       "      <td>51.506187</td>\n",
       "      <td>Darkness - lights lit</td>\n",
       "      <td>Kensington and Chelsea</td>\n",
       "      <td>-0.209082</td>\n",
       "      <td>1</td>\n",
       "      <td>2</td>\n",
       "      <td>Dry</td>\n",
       "      <td>Single carriageway</td>\n",
       "      <td>Urban</td>\n",
       "      <td>Fine no high winds</td>\n",
       "      <td>Car</td>\n",
       "    </tr>\n",
       "    <tr>\n",
       "      <th>1</th>\n",
       "      <td>200701BS65737</td>\n",
       "      <td>Serious</td>\n",
       "      <td>02/07/2019</td>\n",
       "      <td>51.495029</td>\n",
       "      <td>Daylight</td>\n",
       "      <td>Kensington and Chelsea</td>\n",
       "      <td>-0.173647</td>\n",
       "      <td>1</td>\n",
       "      <td>2</td>\n",
       "      <td>Wet or damp</td>\n",
       "      <td>Single carriageway</td>\n",
       "      <td>Urban</td>\n",
       "      <td>Raining no high winds</td>\n",
       "      <td>Car</td>\n",
       "    </tr>\n",
       "    <tr>\n",
       "      <th>2</th>\n",
       "      <td>200701BS66127</td>\n",
       "      <td>Serious</td>\n",
       "      <td>26/08/2019</td>\n",
       "      <td>51.517715</td>\n",
       "      <td>Darkness - lighting unknown</td>\n",
       "      <td>Kensington and Chelsea</td>\n",
       "      <td>-0.210215</td>\n",
       "      <td>1</td>\n",
       "      <td>3</td>\n",
       "      <td>Dry</td>\n",
       "      <td>NaN</td>\n",
       "      <td>Urban</td>\n",
       "      <td>NaN</td>\n",
       "      <td>Taxi/Private hire car</td>\n",
       "    </tr>\n",
       "    <tr>\n",
       "      <th>3</th>\n",
       "      <td>200701BS66128</td>\n",
       "      <td>Serious</td>\n",
       "      <td>16/08/2019</td>\n",
       "      <td>51.495478</td>\n",
       "      <td>Daylight</td>\n",
       "      <td>Kensington and Chelsea</td>\n",
       "      <td>-0.202731</td>\n",
       "      <td>1</td>\n",
       "      <td>4</td>\n",
       "      <td>Dry</td>\n",
       "      <td>Single carriageway</td>\n",
       "      <td>Urban</td>\n",
       "      <td>Fine no high winds</td>\n",
       "      <td>Bus or coach (17 or more pass seats)</td>\n",
       "    </tr>\n",
       "    <tr>\n",
       "      <th>4</th>\n",
       "      <td>200701BS66837</td>\n",
       "      <td>Slight</td>\n",
       "      <td>03/09/2019</td>\n",
       "      <td>51.488576</td>\n",
       "      <td>Darkness - lights lit</td>\n",
       "      <td>Kensington and Chelsea</td>\n",
       "      <td>-0.192487</td>\n",
       "      <td>1</td>\n",
       "      <td>2</td>\n",
       "      <td>Dry</td>\n",
       "      <td>NaN</td>\n",
       "      <td>Urban</td>\n",
       "      <td>NaN</td>\n",
       "      <td>Other vehicle</td>\n",
       "    </tr>\n",
       "    <tr>\n",
       "      <th>...</th>\n",
       "      <td>...</td>\n",
       "      <td>...</td>\n",
       "      <td>...</td>\n",
       "      <td>...</td>\n",
       "      <td>...</td>\n",
       "      <td>...</td>\n",
       "      <td>...</td>\n",
       "      <td>...</td>\n",
       "      <td>...</td>\n",
       "      <td>...</td>\n",
       "      <td>...</td>\n",
       "      <td>...</td>\n",
       "      <td>...</td>\n",
       "      <td>...</td>\n",
       "    </tr>\n",
       "    <tr>\n",
       "      <th>660674</th>\n",
       "      <td>201091NM01760</td>\n",
       "      <td>Slight</td>\n",
       "      <td>18/02/2022</td>\n",
       "      <td>57.374005</td>\n",
       "      <td>Daylight</td>\n",
       "      <td>Highland</td>\n",
       "      <td>-3.467828</td>\n",
       "      <td>2</td>\n",
       "      <td>1</td>\n",
       "      <td>Dry</td>\n",
       "      <td>Single carriageway</td>\n",
       "      <td>Rural</td>\n",
       "      <td>Fine no high winds</td>\n",
       "      <td>Car</td>\n",
       "    </tr>\n",
       "    <tr>\n",
       "      <th>660675</th>\n",
       "      <td>201091NM01881</td>\n",
       "      <td>Slight</td>\n",
       "      <td>21/02/2022</td>\n",
       "      <td>57.232273</td>\n",
       "      <td>Darkness - no lighting</td>\n",
       "      <td>Highland</td>\n",
       "      <td>-3.809281</td>\n",
       "      <td>1</td>\n",
       "      <td>1</td>\n",
       "      <td>Frost or ice</td>\n",
       "      <td>Single carriageway</td>\n",
       "      <td>Rural</td>\n",
       "      <td>Fine no high winds</td>\n",
       "      <td>Car</td>\n",
       "    </tr>\n",
       "    <tr>\n",
       "      <th>660676</th>\n",
       "      <td>201091NM01935</td>\n",
       "      <td>Slight</td>\n",
       "      <td>23/02/2022</td>\n",
       "      <td>57.585044</td>\n",
       "      <td>Daylight</td>\n",
       "      <td>Highland</td>\n",
       "      <td>-3.862727</td>\n",
       "      <td>1</td>\n",
       "      <td>3</td>\n",
       "      <td>Frost or ice</td>\n",
       "      <td>Single carriageway</td>\n",
       "      <td>Rural</td>\n",
       "      <td>Fine no high winds</td>\n",
       "      <td>Car</td>\n",
       "    </tr>\n",
       "    <tr>\n",
       "      <th>660677</th>\n",
       "      <td>201091NM01964</td>\n",
       "      <td>Serious</td>\n",
       "      <td>23/02/2022</td>\n",
       "      <td>57.214898</td>\n",
       "      <td>Darkness - no lighting</td>\n",
       "      <td>Highland</td>\n",
       "      <td>-3.823997</td>\n",
       "      <td>1</td>\n",
       "      <td>2</td>\n",
       "      <td>Wet or damp</td>\n",
       "      <td>Single carriageway</td>\n",
       "      <td>Rural</td>\n",
       "      <td>Fine no high winds</td>\n",
       "      <td>Motorcycle over 500cc</td>\n",
       "    </tr>\n",
       "    <tr>\n",
       "      <th>660678</th>\n",
       "      <td>201091NM02142</td>\n",
       "      <td>Serious</td>\n",
       "      <td>28/02/2022</td>\n",
       "      <td>57.575210</td>\n",
       "      <td>Daylight</td>\n",
       "      <td>Highland</td>\n",
       "      <td>-3.895673</td>\n",
       "      <td>1</td>\n",
       "      <td>1</td>\n",
       "      <td>Wet or damp</td>\n",
       "      <td>Dual carriageway</td>\n",
       "      <td>Rural</td>\n",
       "      <td>Snowing no high winds</td>\n",
       "      <td>Car</td>\n",
       "    </tr>\n",
       "  </tbody>\n",
       "</table>\n",
       "<p>660679 rows × 14 columns</p>\n",
       "</div>"
      ],
      "text/plain": [
       "                Index Accident_Severity Accident Date   Latitude  \\\n",
       "0       200701BS64157           Serious    05/06/2019  51.506187   \n",
       "1       200701BS65737           Serious    02/07/2019  51.495029   \n",
       "2       200701BS66127           Serious    26/08/2019  51.517715   \n",
       "3       200701BS66128           Serious    16/08/2019  51.495478   \n",
       "4       200701BS66837            Slight    03/09/2019  51.488576   \n",
       "...               ...               ...           ...        ...   \n",
       "660674  201091NM01760            Slight    18/02/2022  57.374005   \n",
       "660675  201091NM01881            Slight    21/02/2022  57.232273   \n",
       "660676  201091NM01935            Slight    23/02/2022  57.585044   \n",
       "660677  201091NM01964           Serious    23/02/2022  57.214898   \n",
       "660678  201091NM02142           Serious    28/02/2022  57.575210   \n",
       "\n",
       "                   Light_Conditions           District Area  Longitude  \\\n",
       "0             Darkness - lights lit  Kensington and Chelsea  -0.209082   \n",
       "1                          Daylight  Kensington and Chelsea  -0.173647   \n",
       "2       Darkness - lighting unknown  Kensington and Chelsea  -0.210215   \n",
       "3                          Daylight  Kensington and Chelsea  -0.202731   \n",
       "4             Darkness - lights lit  Kensington and Chelsea  -0.192487   \n",
       "...                             ...                     ...        ...   \n",
       "660674                     Daylight                Highland  -3.467828   \n",
       "660675       Darkness - no lighting                Highland  -3.809281   \n",
       "660676                     Daylight                Highland  -3.862727   \n",
       "660677       Darkness - no lighting                Highland  -3.823997   \n",
       "660678                     Daylight                Highland  -3.895673   \n",
       "\n",
       "        Number_of_Casualties  Number_of_Vehicles Road_Surface_Conditions  \\\n",
       "0                          1                   2                     Dry   \n",
       "1                          1                   2             Wet or damp   \n",
       "2                          1                   3                     Dry   \n",
       "3                          1                   4                     Dry   \n",
       "4                          1                   2                     Dry   \n",
       "...                      ...                 ...                     ...   \n",
       "660674                     2                   1                     Dry   \n",
       "660675                     1                   1            Frost or ice   \n",
       "660676                     1                   3            Frost or ice   \n",
       "660677                     1                   2             Wet or damp   \n",
       "660678                     1                   1             Wet or damp   \n",
       "\n",
       "                 Road_Type Urban_or_Rural_Area     Weather_Conditions  \\\n",
       "0       Single carriageway               Urban     Fine no high winds   \n",
       "1       Single carriageway               Urban  Raining no high winds   \n",
       "2                      NaN               Urban                    NaN   \n",
       "3       Single carriageway               Urban     Fine no high winds   \n",
       "4                      NaN               Urban                    NaN   \n",
       "...                    ...                 ...                    ...   \n",
       "660674  Single carriageway               Rural     Fine no high winds   \n",
       "660675  Single carriageway               Rural     Fine no high winds   \n",
       "660676  Single carriageway               Rural     Fine no high winds   \n",
       "660677  Single carriageway               Rural     Fine no high winds   \n",
       "660678    Dual carriageway               Rural  Snowing no high winds   \n",
       "\n",
       "                                Vehicle_Type  \n",
       "0                                        Car  \n",
       "1                                        Car  \n",
       "2                      Taxi/Private hire car  \n",
       "3       Bus or coach (17 or more pass seats)  \n",
       "4                              Other vehicle  \n",
       "...                                      ...  \n",
       "660674                                   Car  \n",
       "660675                                   Car  \n",
       "660676                                   Car  \n",
       "660677                 Motorcycle over 500cc  \n",
       "660678                                   Car  \n",
       "\n",
       "[660679 rows x 14 columns]"
      ]
     },
     "execution_count": 3,
     "metadata": {},
     "output_type": "execute_result"
    }
   ],
   "source": [
    "accident"
   ]
  },
  {
   "cell_type": "markdown",
   "id": "c224617a-4093-41ae-91b7-65b04d48f71e",
   "metadata": {},
   "source": [
    "accident"
   ]
  },
  {
   "cell_type": "markdown",
   "id": "a3bb4a43-945a-4b8e-bf00-066625897676",
   "metadata": {},
   "source": [
    "<h1> Data Preparation</h1>"
   ]
  },
  {
   "cell_type": "code",
   "execution_count": 4,
   "id": "ee9f74ce-1323-482d-b15f-e87bac4c3bd3",
   "metadata": {},
   "outputs": [
    {
     "name": "stdout",
     "output_type": "stream",
     "text": [
      "<class 'pandas.core.frame.DataFrame'>\n",
      "RangeIndex: 660679 entries, 0 to 660678\n",
      "Data columns (total 14 columns):\n",
      " #   Column                   Non-Null Count   Dtype  \n",
      "---  ------                   --------------   -----  \n",
      " 0   Index                    660679 non-null  object \n",
      " 1   Accident_Severity        660679 non-null  object \n",
      " 2   Accident Date            660679 non-null  object \n",
      " 3   Latitude                 660654 non-null  float64\n",
      " 4   Light_Conditions         660679 non-null  object \n",
      " 5   District Area            660679 non-null  object \n",
      " 6   Longitude                660653 non-null  float64\n",
      " 7   Number_of_Casualties     660679 non-null  int64  \n",
      " 8   Number_of_Vehicles       660679 non-null  int64  \n",
      " 9   Road_Surface_Conditions  659953 non-null  object \n",
      " 10  Road_Type                656159 non-null  object \n",
      " 11  Urban_or_Rural_Area      660664 non-null  object \n",
      " 12  Weather_Conditions       646551 non-null  object \n",
      " 13  Vehicle_Type             660679 non-null  object \n",
      "dtypes: float64(2), int64(2), object(10)\n",
      "memory usage: 70.6+ MB\n"
     ]
    }
   ],
   "source": [
    "accident.info()"
   ]
  },
  {
   "cell_type": "code",
   "execution_count": 5,
   "id": "34ddaad1-f3e1-4044-b808-1ec10e6b4546",
   "metadata": {},
   "outputs": [
    {
     "data": {
      "text/html": [
       "<div>\n",
       "<style scoped>\n",
       "    .dataframe tbody tr th:only-of-type {\n",
       "        vertical-align: middle;\n",
       "    }\n",
       "\n",
       "    .dataframe tbody tr th {\n",
       "        vertical-align: top;\n",
       "    }\n",
       "\n",
       "    .dataframe thead th {\n",
       "        text-align: right;\n",
       "    }\n",
       "</style>\n",
       "<table border=\"1\" class=\"dataframe\">\n",
       "  <thead>\n",
       "    <tr style=\"text-align: right;\">\n",
       "      <th></th>\n",
       "      <th>Latitude</th>\n",
       "      <th>Longitude</th>\n",
       "      <th>Number_of_Casualties</th>\n",
       "      <th>Number_of_Vehicles</th>\n",
       "    </tr>\n",
       "  </thead>\n",
       "  <tbody>\n",
       "    <tr>\n",
       "      <th>count</th>\n",
       "      <td>660654.000000</td>\n",
       "      <td>660653.000000</td>\n",
       "      <td>660679.000000</td>\n",
       "      <td>660679.000000</td>\n",
       "    </tr>\n",
       "    <tr>\n",
       "      <th>mean</th>\n",
       "      <td>52.553866</td>\n",
       "      <td>-1.431210</td>\n",
       "      <td>1.357040</td>\n",
       "      <td>1.831255</td>\n",
       "    </tr>\n",
       "    <tr>\n",
       "      <th>std</th>\n",
       "      <td>1.406922</td>\n",
       "      <td>1.383330</td>\n",
       "      <td>0.824847</td>\n",
       "      <td>0.715269</td>\n",
       "    </tr>\n",
       "    <tr>\n",
       "      <th>min</th>\n",
       "      <td>49.914430</td>\n",
       "      <td>-7.516225</td>\n",
       "      <td>1.000000</td>\n",
       "      <td>1.000000</td>\n",
       "    </tr>\n",
       "    <tr>\n",
       "      <th>25%</th>\n",
       "      <td>51.490690</td>\n",
       "      <td>-2.332291</td>\n",
       "      <td>1.000000</td>\n",
       "      <td>1.000000</td>\n",
       "    </tr>\n",
       "    <tr>\n",
       "      <th>50%</th>\n",
       "      <td>52.315641</td>\n",
       "      <td>-1.411667</td>\n",
       "      <td>1.000000</td>\n",
       "      <td>2.000000</td>\n",
       "    </tr>\n",
       "    <tr>\n",
       "      <th>75%</th>\n",
       "      <td>53.453452</td>\n",
       "      <td>-0.232869</td>\n",
       "      <td>1.000000</td>\n",
       "      <td>2.000000</td>\n",
       "    </tr>\n",
       "    <tr>\n",
       "      <th>max</th>\n",
       "      <td>60.757544</td>\n",
       "      <td>1.762010</td>\n",
       "      <td>68.000000</td>\n",
       "      <td>32.000000</td>\n",
       "    </tr>\n",
       "  </tbody>\n",
       "</table>\n",
       "</div>"
      ],
      "text/plain": [
       "            Latitude      Longitude  Number_of_Casualties  Number_of_Vehicles\n",
       "count  660654.000000  660653.000000         660679.000000       660679.000000\n",
       "mean       52.553866      -1.431210              1.357040            1.831255\n",
       "std         1.406922       1.383330              0.824847            0.715269\n",
       "min        49.914430      -7.516225              1.000000            1.000000\n",
       "25%        51.490690      -2.332291              1.000000            1.000000\n",
       "50%        52.315641      -1.411667              1.000000            2.000000\n",
       "75%        53.453452      -0.232869              1.000000            2.000000\n",
       "max        60.757544       1.762010             68.000000           32.000000"
      ]
     },
     "execution_count": 5,
     "metadata": {},
     "output_type": "execute_result"
    }
   ],
   "source": [
    "accident.describe()"
   ]
  },
  {
   "cell_type": "code",
   "execution_count": 6,
   "id": "a93b2e52-6370-44fb-9451-2e9a6ed995c6",
   "metadata": {},
   "outputs": [
    {
     "data": {
      "text/plain": [
       "Index                       object\n",
       "Accident_Severity           object\n",
       "Accident Date               object\n",
       "Latitude                   float64\n",
       "Light_Conditions            object\n",
       "District Area               object\n",
       "Longitude                  float64\n",
       "Number_of_Casualties         int64\n",
       "Number_of_Vehicles           int64\n",
       "Road_Surface_Conditions     object\n",
       "Road_Type                   object\n",
       "Urban_or_Rural_Area         object\n",
       "Weather_Conditions          object\n",
       "Vehicle_Type                object\n",
       "dtype: object"
      ]
     },
     "execution_count": 6,
     "metadata": {},
     "output_type": "execute_result"
    }
   ],
   "source": [
    "accident.dtypes"
   ]
  },
  {
   "cell_type": "markdown",
   "id": "cc30eaa5-3073-41af-b556-c70fa0698bfc",
   "metadata": {},
   "source": [
    "<h1> Data Cleansing </h1>"
   ]
  },
  {
   "cell_type": "code",
   "execution_count": 7,
   "id": "465765ad-25b6-4207-9e56-cdacef4b3e9f",
   "metadata": {},
   "outputs": [
    {
     "data": {
      "text/plain": [
       "Index                          0\n",
       "Accident_Severity              0\n",
       "Accident Date                  0\n",
       "Latitude                      25\n",
       "Light_Conditions               0\n",
       "District Area                  0\n",
       "Longitude                     26\n",
       "Number_of_Casualties           0\n",
       "Number_of_Vehicles             0\n",
       "Road_Surface_Conditions      726\n",
       "Road_Type                   4520\n",
       "Urban_or_Rural_Area           15\n",
       "Weather_Conditions         14128\n",
       "Vehicle_Type                   0\n",
       "dtype: int64"
      ]
     },
     "execution_count": 7,
     "metadata": {},
     "output_type": "execute_result"
    }
   ],
   "source": [
    "accident.isnull().sum()"
   ]
  },
  {
   "cell_type": "code",
   "execution_count": 8,
   "id": "7123adbd-9bdf-4b88-b8b7-fe5cc62ed4ed",
   "metadata": {},
   "outputs": [],
   "source": [
    "accident['Latitude'] = accident['Latitude'].fillna(accident['Latitude'].mode()[0])\n",
    "accident['Longitude'] = accident['Longitude'].fillna(accident['Longitude'].mode()[0])\n",
    "accident['Road_Surface_Conditions'] = accident['Road_Surface_Conditions'].fillna('Road_Surface_Conditions')\n",
    "accident['Road_Type'] = accident['Road_Type'].fillna('Road_Type')\n",
    "accident['Weather_Conditions'] = accident['Weather_Conditions'].fillna('Weather_Conditions')\n",
    "accident['Urban_or_Rural_Area'] = accident['Urban_or_Rural_Area'].fillna(accident['Urban_or_Rural_Area'].mode()[0])"
   ]
  },
  {
   "cell_type": "code",
   "execution_count": 9,
   "id": "f02522f5-a72b-4f68-b67d-b0f4252e4ed2",
   "metadata": {},
   "outputs": [
    {
     "data": {
      "text/plain": [
       "Index                      0\n",
       "Accident_Severity          0\n",
       "Accident Date              0\n",
       "Latitude                   0\n",
       "Light_Conditions           0\n",
       "District Area              0\n",
       "Longitude                  0\n",
       "Number_of_Casualties       0\n",
       "Number_of_Vehicles         0\n",
       "Road_Surface_Conditions    0\n",
       "Road_Type                  0\n",
       "Urban_or_Rural_Area        0\n",
       "Weather_Conditions         0\n",
       "Vehicle_Type               0\n",
       "dtype: int64"
      ]
     },
     "execution_count": 9,
     "metadata": {},
     "output_type": "execute_result"
    }
   ],
   "source": [
    "accident.isnull().sum()"
   ]
  },
  {
   "cell_type": "markdown",
   "id": "71c6ec40-8a33-4bf3-b7a7-413ba4ffd680",
   "metadata": {},
   "source": [
    "<h1> Converting Object to DataTime Data Time </h1>"
   ]
  },
  {
   "cell_type": "code",
   "execution_count": 10,
   "id": "9ccdacb2-ece7-4ffd-9fd8-47c52360a460",
   "metadata": {},
   "outputs": [],
   "source": [
    "accident['Accident Date'] = pd.to_datetime(accident['Accident Date'], dayfirst = True)"
   ]
  },
  {
   "cell_type": "code",
   "execution_count": 11,
   "id": "1e3a1e41-dda1-43d7-bc5f-8bfa4658f113",
   "metadata": {},
   "outputs": [
    {
     "data": {
      "text/plain": [
       "Index                              object\n",
       "Accident_Severity                  object\n",
       "Accident Date              datetime64[ns]\n",
       "Latitude                          float64\n",
       "Light_Conditions                   object\n",
       "District Area                      object\n",
       "Longitude                         float64\n",
       "Number_of_Casualties                int64\n",
       "Number_of_Vehicles                  int64\n",
       "Road_Surface_Conditions            object\n",
       "Road_Type                          object\n",
       "Urban_or_Rural_Area                object\n",
       "Weather_Conditions                 object\n",
       "Vehicle_Type                       object\n",
       "dtype: object"
      ]
     },
     "execution_count": 11,
     "metadata": {},
     "output_type": "execute_result"
    }
   ],
   "source": [
    "accident.dtypes"
   ]
  },
  {
   "cell_type": "markdown",
   "id": "5c4e034d-46e4-41c8-82b0-49f8d17157a1",
   "metadata": {},
   "source": [
    "<h1> Extracting date information using pandas date time </h1>"
   ]
  },
  {
   "cell_type": "code",
   "execution_count": 12,
   "id": "39980d4a-3874-4900-95f6-84b478b84970",
   "metadata": {},
   "outputs": [],
   "source": [
    "accident['Year'] = accident['Accident Date'].dt.year\n",
    "accident['Month'] = accident['Accident Date'].dt.month\n",
    "accident['Day'] = accident['Accident Date'].dt.day\n",
    "accident['DayOfWeek'] = accident['Accident Date'].dt.dayofweek"
   ]
  },
  {
   "cell_type": "code",
   "execution_count": 13,
   "id": "7a1e7456-c6a7-4826-b571-f627c10f53e5",
   "metadata": {},
   "outputs": [
    {
     "data": {
      "text/plain": [
       "Index                      0\n",
       "Accident_Severity          0\n",
       "Accident Date              0\n",
       "Latitude                   0\n",
       "Light_Conditions           0\n",
       "District Area              0\n",
       "Longitude                  0\n",
       "Number_of_Casualties       0\n",
       "Number_of_Vehicles         0\n",
       "Road_Surface_Conditions    0\n",
       "Road_Type                  0\n",
       "Urban_or_Rural_Area        0\n",
       "Weather_Conditions         0\n",
       "Vehicle_Type               0\n",
       "Year                       0\n",
       "Month                      0\n",
       "Day                        0\n",
       "DayOfWeek                  0\n",
       "dtype: int64"
      ]
     },
     "execution_count": 13,
     "metadata": {},
     "output_type": "execute_result"
    }
   ],
   "source": [
    "accident.isnull().sum()"
   ]
  },
  {
   "cell_type": "code",
   "execution_count": 14,
   "id": "cc031cf7-2bc2-4a9c-8191-e63fefb88a95",
   "metadata": {},
   "outputs": [],
   "source": [
    "#accident['Accident Date'] = accident['Accident Date'].str.strip()\n",
    "#accident['AccidentDate'] = accident['AccidentDate'].str.replace('/', '-')"
   ]
  },
  {
   "cell_type": "markdown",
   "id": "f121c710-3c6a-4040-add5-326124c81256",
   "metadata": {},
   "source": [
    "<h1>Data Analytics</h1>"
   ]
  },
  {
   "cell_type": "markdown",
   "id": "29984019-89ec-4af1-9a70-739526b59f87",
   "metadata": {},
   "source": [
    "<h1>Analyzing Each from the Data Set</h1>"
   ]
  },
  {
   "cell_type": "markdown",
   "id": "4cab8cba-40c5-485d-a407-bf3aecdb567e",
   "metadata": {},
   "source": [
    "<h2>Univariate</h2>"
   ]
  },
  {
   "cell_type": "code",
   "execution_count": 15,
   "id": "6f1d83e9-e972-436b-98a9-652455a6a50a",
   "metadata": {},
   "outputs": [
    {
     "data": {
      "text/html": [
       "<div>\n",
       "<style scoped>\n",
       "    .dataframe tbody tr th:only-of-type {\n",
       "        vertical-align: middle;\n",
       "    }\n",
       "\n",
       "    .dataframe tbody tr th {\n",
       "        vertical-align: top;\n",
       "    }\n",
       "\n",
       "    .dataframe thead th {\n",
       "        text-align: right;\n",
       "    }\n",
       "</style>\n",
       "<table border=\"1\" class=\"dataframe\">\n",
       "  <thead>\n",
       "    <tr style=\"text-align: right;\">\n",
       "      <th></th>\n",
       "      <th>Index</th>\n",
       "      <th>Accident_Severity</th>\n",
       "      <th>Accident Date</th>\n",
       "      <th>Latitude</th>\n",
       "      <th>Light_Conditions</th>\n",
       "      <th>District Area</th>\n",
       "      <th>Longitude</th>\n",
       "      <th>Number_of_Casualties</th>\n",
       "      <th>Number_of_Vehicles</th>\n",
       "      <th>Road_Surface_Conditions</th>\n",
       "      <th>Road_Type</th>\n",
       "      <th>Urban_or_Rural_Area</th>\n",
       "      <th>Weather_Conditions</th>\n",
       "      <th>Vehicle_Type</th>\n",
       "      <th>Year</th>\n",
       "      <th>Month</th>\n",
       "      <th>Day</th>\n",
       "      <th>DayOfWeek</th>\n",
       "    </tr>\n",
       "  </thead>\n",
       "  <tbody>\n",
       "    <tr>\n",
       "      <th>0</th>\n",
       "      <td>200701BS64157</td>\n",
       "      <td>Serious</td>\n",
       "      <td>2019-06-05</td>\n",
       "      <td>51.506187</td>\n",
       "      <td>Darkness - lights lit</td>\n",
       "      <td>Kensington and Chelsea</td>\n",
       "      <td>-0.209082</td>\n",
       "      <td>1</td>\n",
       "      <td>2</td>\n",
       "      <td>Dry</td>\n",
       "      <td>Single carriageway</td>\n",
       "      <td>Urban</td>\n",
       "      <td>Fine no high winds</td>\n",
       "      <td>Car</td>\n",
       "      <td>2019</td>\n",
       "      <td>6</td>\n",
       "      <td>5</td>\n",
       "      <td>2</td>\n",
       "    </tr>\n",
       "    <tr>\n",
       "      <th>1</th>\n",
       "      <td>200701BS65737</td>\n",
       "      <td>Serious</td>\n",
       "      <td>2019-07-02</td>\n",
       "      <td>51.495029</td>\n",
       "      <td>Daylight</td>\n",
       "      <td>Kensington and Chelsea</td>\n",
       "      <td>-0.173647</td>\n",
       "      <td>1</td>\n",
       "      <td>2</td>\n",
       "      <td>Wet or damp</td>\n",
       "      <td>Single carriageway</td>\n",
       "      <td>Urban</td>\n",
       "      <td>Raining no high winds</td>\n",
       "      <td>Car</td>\n",
       "      <td>2019</td>\n",
       "      <td>7</td>\n",
       "      <td>2</td>\n",
       "      <td>1</td>\n",
       "    </tr>\n",
       "    <tr>\n",
       "      <th>2</th>\n",
       "      <td>200701BS66127</td>\n",
       "      <td>Serious</td>\n",
       "      <td>2019-08-26</td>\n",
       "      <td>51.517715</td>\n",
       "      <td>Darkness - lighting unknown</td>\n",
       "      <td>Kensington and Chelsea</td>\n",
       "      <td>-0.210215</td>\n",
       "      <td>1</td>\n",
       "      <td>3</td>\n",
       "      <td>Dry</td>\n",
       "      <td>Road_Type</td>\n",
       "      <td>Urban</td>\n",
       "      <td>Weather_Conditions</td>\n",
       "      <td>Taxi/Private hire car</td>\n",
       "      <td>2019</td>\n",
       "      <td>8</td>\n",
       "      <td>26</td>\n",
       "      <td>0</td>\n",
       "    </tr>\n",
       "    <tr>\n",
       "      <th>3</th>\n",
       "      <td>200701BS66128</td>\n",
       "      <td>Serious</td>\n",
       "      <td>2019-08-16</td>\n",
       "      <td>51.495478</td>\n",
       "      <td>Daylight</td>\n",
       "      <td>Kensington and Chelsea</td>\n",
       "      <td>-0.202731</td>\n",
       "      <td>1</td>\n",
       "      <td>4</td>\n",
       "      <td>Dry</td>\n",
       "      <td>Single carriageway</td>\n",
       "      <td>Urban</td>\n",
       "      <td>Fine no high winds</td>\n",
       "      <td>Bus or coach (17 or more pass seats)</td>\n",
       "      <td>2019</td>\n",
       "      <td>8</td>\n",
       "      <td>16</td>\n",
       "      <td>4</td>\n",
       "    </tr>\n",
       "    <tr>\n",
       "      <th>4</th>\n",
       "      <td>200701BS66837</td>\n",
       "      <td>Slight</td>\n",
       "      <td>2019-09-03</td>\n",
       "      <td>51.488576</td>\n",
       "      <td>Darkness - lights lit</td>\n",
       "      <td>Kensington and Chelsea</td>\n",
       "      <td>-0.192487</td>\n",
       "      <td>1</td>\n",
       "      <td>2</td>\n",
       "      <td>Dry</td>\n",
       "      <td>Road_Type</td>\n",
       "      <td>Urban</td>\n",
       "      <td>Weather_Conditions</td>\n",
       "      <td>Other vehicle</td>\n",
       "      <td>2019</td>\n",
       "      <td>9</td>\n",
       "      <td>3</td>\n",
       "      <td>1</td>\n",
       "    </tr>\n",
       "    <tr>\n",
       "      <th>...</th>\n",
       "      <td>...</td>\n",
       "      <td>...</td>\n",
       "      <td>...</td>\n",
       "      <td>...</td>\n",
       "      <td>...</td>\n",
       "      <td>...</td>\n",
       "      <td>...</td>\n",
       "      <td>...</td>\n",
       "      <td>...</td>\n",
       "      <td>...</td>\n",
       "      <td>...</td>\n",
       "      <td>...</td>\n",
       "      <td>...</td>\n",
       "      <td>...</td>\n",
       "      <td>...</td>\n",
       "      <td>...</td>\n",
       "      <td>...</td>\n",
       "      <td>...</td>\n",
       "    </tr>\n",
       "    <tr>\n",
       "      <th>182110</th>\n",
       "      <td>2.01E+12</td>\n",
       "      <td>Slight</td>\n",
       "      <td>2019-12-20</td>\n",
       "      <td>54.985289</td>\n",
       "      <td>Darkness - no lighting</td>\n",
       "      <td>Dumfries and Galloway</td>\n",
       "      <td>-3.210294</td>\n",
       "      <td>1</td>\n",
       "      <td>1</td>\n",
       "      <td>Frost or ice</td>\n",
       "      <td>Single carriageway</td>\n",
       "      <td>Rural</td>\n",
       "      <td>Other</td>\n",
       "      <td>Car</td>\n",
       "      <td>2019</td>\n",
       "      <td>12</td>\n",
       "      <td>20</td>\n",
       "      <td>4</td>\n",
       "    </tr>\n",
       "    <tr>\n",
       "      <th>182111</th>\n",
       "      <td>2.01E+12</td>\n",
       "      <td>Serious</td>\n",
       "      <td>2019-12-21</td>\n",
       "      <td>54.984105</td>\n",
       "      <td>Daylight</td>\n",
       "      <td>Dumfries and Galloway</td>\n",
       "      <td>-3.193693</td>\n",
       "      <td>2</td>\n",
       "      <td>1</td>\n",
       "      <td>Frost or ice</td>\n",
       "      <td>Single carriageway</td>\n",
       "      <td>Rural</td>\n",
       "      <td>Other</td>\n",
       "      <td>Car</td>\n",
       "      <td>2019</td>\n",
       "      <td>12</td>\n",
       "      <td>21</td>\n",
       "      <td>5</td>\n",
       "    </tr>\n",
       "    <tr>\n",
       "      <th>182112</th>\n",
       "      <td>2.01E+12</td>\n",
       "      <td>Slight</td>\n",
       "      <td>2019-12-23</td>\n",
       "      <td>55.166369</td>\n",
       "      <td>Darkness - no lighting</td>\n",
       "      <td>Dumfries and Galloway</td>\n",
       "      <td>-2.992068</td>\n",
       "      <td>1</td>\n",
       "      <td>1</td>\n",
       "      <td>Frost or ice</td>\n",
       "      <td>Single carriageway</td>\n",
       "      <td>Rural</td>\n",
       "      <td>Fog or mist</td>\n",
       "      <td>Van / Goods 3.5 tonnes mgw or under</td>\n",
       "      <td>2019</td>\n",
       "      <td>12</td>\n",
       "      <td>23</td>\n",
       "      <td>0</td>\n",
       "    </tr>\n",
       "    <tr>\n",
       "      <th>182113</th>\n",
       "      <td>2.01E+12</td>\n",
       "      <td>Slight</td>\n",
       "      <td>2019-12-23</td>\n",
       "      <td>54.995154</td>\n",
       "      <td>Darkness - lights lit</td>\n",
       "      <td>Dumfries and Galloway</td>\n",
       "      <td>-3.058338</td>\n",
       "      <td>1</td>\n",
       "      <td>1</td>\n",
       "      <td>Wet or damp</td>\n",
       "      <td>Single carriageway</td>\n",
       "      <td>Rural</td>\n",
       "      <td>Fine no high winds</td>\n",
       "      <td>Car</td>\n",
       "      <td>2019</td>\n",
       "      <td>12</td>\n",
       "      <td>23</td>\n",
       "      <td>0</td>\n",
       "    </tr>\n",
       "    <tr>\n",
       "      <th>182114</th>\n",
       "      <td>2.01E+12</td>\n",
       "      <td>Serious</td>\n",
       "      <td>2019-12-22</td>\n",
       "      <td>55.104618</td>\n",
       "      <td>Daylight</td>\n",
       "      <td>Dumfries and Galloway</td>\n",
       "      <td>-3.348857</td>\n",
       "      <td>2</td>\n",
       "      <td>2</td>\n",
       "      <td>Frost or ice</td>\n",
       "      <td>Single carriageway</td>\n",
       "      <td>Rural</td>\n",
       "      <td>Raining no high winds</td>\n",
       "      <td>Car</td>\n",
       "      <td>2019</td>\n",
       "      <td>12</td>\n",
       "      <td>22</td>\n",
       "      <td>6</td>\n",
       "    </tr>\n",
       "  </tbody>\n",
       "</table>\n",
       "<p>182115 rows × 18 columns</p>\n",
       "</div>"
      ],
      "text/plain": [
       "                Index Accident_Severity Accident Date   Latitude  \\\n",
       "0       200701BS64157           Serious    2019-06-05  51.506187   \n",
       "1       200701BS65737           Serious    2019-07-02  51.495029   \n",
       "2       200701BS66127           Serious    2019-08-26  51.517715   \n",
       "3       200701BS66128           Serious    2019-08-16  51.495478   \n",
       "4       200701BS66837            Slight    2019-09-03  51.488576   \n",
       "...               ...               ...           ...        ...   \n",
       "182110       2.01E+12            Slight    2019-12-20  54.985289   \n",
       "182111       2.01E+12           Serious    2019-12-21  54.984105   \n",
       "182112       2.01E+12            Slight    2019-12-23  55.166369   \n",
       "182113       2.01E+12            Slight    2019-12-23  54.995154   \n",
       "182114       2.01E+12           Serious    2019-12-22  55.104618   \n",
       "\n",
       "                   Light_Conditions           District Area  Longitude  \\\n",
       "0             Darkness - lights lit  Kensington and Chelsea  -0.209082   \n",
       "1                          Daylight  Kensington and Chelsea  -0.173647   \n",
       "2       Darkness - lighting unknown  Kensington and Chelsea  -0.210215   \n",
       "3                          Daylight  Kensington and Chelsea  -0.202731   \n",
       "4             Darkness - lights lit  Kensington and Chelsea  -0.192487   \n",
       "...                             ...                     ...        ...   \n",
       "182110       Darkness - no lighting   Dumfries and Galloway  -3.210294   \n",
       "182111                     Daylight   Dumfries and Galloway  -3.193693   \n",
       "182112       Darkness - no lighting   Dumfries and Galloway  -2.992068   \n",
       "182113        Darkness - lights lit   Dumfries and Galloway  -3.058338   \n",
       "182114                     Daylight   Dumfries and Galloway  -3.348857   \n",
       "\n",
       "        Number_of_Casualties  Number_of_Vehicles Road_Surface_Conditions  \\\n",
       "0                          1                   2                     Dry   \n",
       "1                          1                   2             Wet or damp   \n",
       "2                          1                   3                     Dry   \n",
       "3                          1                   4                     Dry   \n",
       "4                          1                   2                     Dry   \n",
       "...                      ...                 ...                     ...   \n",
       "182110                     1                   1            Frost or ice   \n",
       "182111                     2                   1            Frost or ice   \n",
       "182112                     1                   1            Frost or ice   \n",
       "182113                     1                   1             Wet or damp   \n",
       "182114                     2                   2            Frost or ice   \n",
       "\n",
       "                 Road_Type Urban_or_Rural_Area     Weather_Conditions  \\\n",
       "0       Single carriageway               Urban     Fine no high winds   \n",
       "1       Single carriageway               Urban  Raining no high winds   \n",
       "2                Road_Type               Urban     Weather_Conditions   \n",
       "3       Single carriageway               Urban     Fine no high winds   \n",
       "4                Road_Type               Urban     Weather_Conditions   \n",
       "...                    ...                 ...                    ...   \n",
       "182110  Single carriageway               Rural                  Other   \n",
       "182111  Single carriageway               Rural                  Other   \n",
       "182112  Single carriageway               Rural            Fog or mist   \n",
       "182113  Single carriageway               Rural     Fine no high winds   \n",
       "182114  Single carriageway               Rural  Raining no high winds   \n",
       "\n",
       "                                Vehicle_Type  Year  Month  Day  DayOfWeek  \n",
       "0                                        Car  2019      6    5          2  \n",
       "1                                        Car  2019      7    2          1  \n",
       "2                      Taxi/Private hire car  2019      8   26          0  \n",
       "3       Bus or coach (17 or more pass seats)  2019      8   16          4  \n",
       "4                              Other vehicle  2019      9    3          1  \n",
       "...                                      ...   ...    ...  ...        ...  \n",
       "182110                                   Car  2019     12   20          4  \n",
       "182111                                   Car  2019     12   21          5  \n",
       "182112   Van / Goods 3.5 tonnes mgw or under  2019     12   23          0  \n",
       "182113                                   Car  2019     12   23          0  \n",
       "182114                                   Car  2019     12   22          6  \n",
       "\n",
       "[182115 rows x 18 columns]"
      ]
     },
     "execution_count": 15,
     "metadata": {},
     "output_type": "execute_result"
    }
   ],
   "source": [
    "df_2019 = accident[accident['Year'] == 2019]\n",
    "df_2019"
   ]
  },
  {
   "cell_type": "markdown",
   "id": "7e5c5135-494a-4279-bac5-c51bba013722",
   "metadata": {},
   "source": [
    "<h3>Q: How many incidents happened under light condition</h3>"
   ]
  },
  {
   "cell_type": "code",
   "execution_count": 16,
   "id": "bf0838f7-0e3f-4433-aa6f-b24ccd48d47c",
   "metadata": {},
   "outputs": [
    {
     "data": {
      "text/plain": [
       "Light_Conditions\n",
       "Daylight                       133042\n",
       "Darkness - lights lit           35769\n",
       "Darkness - no lighting          10842\n",
       "Darkness - lighting unknown      1768\n",
       "Darkness - lights unlit           694\n",
       "Name: count, dtype: int64"
      ]
     },
     "execution_count": 16,
     "metadata": {},
     "output_type": "execute_result"
    }
   ],
   "source": [
    "df_2019 ['Light_Conditions'].value_counts()"
   ]
  },
  {
   "cell_type": "markdown",
   "id": "90156e8b-7909-47e0-97e4-dc2a4bd54dfa",
   "metadata": {},
   "source": [
    "<h1>Insight 1: How many incidents happened in Highland? </h1>"
   ]
  },
  {
   "cell_type": "code",
   "execution_count": 42,
   "id": "58e01465-3f3a-4f1c-b5c2-a8382c479de4",
   "metadata": {},
   "outputs": [
    {
     "name": "stdout",
     "output_type": "stream",
     "text": [
      "2021 incidents happened in Highland.\n"
     ]
    }
   ],
   "source": [
    "highland_incidents = accident[accident['District Area'] == 'Highland'].shape[0]\n",
    "print(f'{highland_incidents} incidents happened in Highland.')"
   ]
  },
  {
   "cell_type": "markdown",
   "id": "07e0353c-3984-4121-a6ea-c80bf04832db",
   "metadata": {},
   "source": [
    "<h1>Insights 2: There is 36378 incidents happened in Highlind, Now, What is the average number of casualties happened in Highland on 2020?</h1>"
   ]
  },
  {
   "cell_type": "code",
   "execution_count": 48,
   "id": "695ef054-dcc1-4390-8ba8-18ef725b54c2",
   "metadata": {},
   "outputs": [
    {
     "name": "stdout",
     "output_type": "stream",
     "text": [
      "The average number of casualties in Highland in 2020 was 1.44.\n"
     ]
    }
   ],
   "source": [
    "accident_2020 = accident[(accident['District Area'] == 'Highland') & (accident['Year'] == 2020)]\n",
    "mean_casualties = round(accident_2020['Number_of_Casualties'].mean(),2)\n",
    "print(f\"The average number of casualties in Highland in 2020 was {mean_casualties}.\")"
   ]
  },
  {
   "cell_type": "markdown",
   "id": "8fd8fa99-2556-4b44-b858-443a741943dc",
   "metadata": {},
   "source": [
    "<h1> Insight 3: The average number of casualties happened in Highland on 2020 is 1.44, What is the Average Number of casualties happened in Kensington and Chelsea on 2019? </h1>"
   ]
  },
  {
   "cell_type": "code",
   "execution_count": 49,
   "id": "657c1c13-43eb-4aad-8247-e7f714115494",
   "metadata": {},
   "outputs": [
    {
     "name": "stdout",
     "output_type": "stream",
     "text": [
      "The average number of casualties in Kensington and Chelsea in 2019 was 1.15.\n"
     ]
    }
   ],
   "source": [
    "accident_2019 = accident[(accident['District Area'] == 'Kensington and Chelsea') & (accident['Year'] == 2019)]\n",
    "mean_casualties = round(accident_2019['Number_of_Casualties'].mean(),2)\n",
    "print(f\"The average number of casualties in Kensington and Chelsea in 2019 was {mean_casualties}.\")"
   ]
  },
  {
   "cell_type": "markdown",
   "id": "8c0929ec-cdbf-4c79-8020-24b6d94eeb2a",
   "metadata": {},
   "source": [
    "<h1> Insight 4: What is the average Number of casualties happened in Dumfries and Galloway on 2021?</h1>"
   ]
  },
  {
   "cell_type": "code",
   "execution_count": 51,
   "id": "bf1d9239-abd5-41eb-a264-6b9fcdd825ae",
   "metadata": {},
   "outputs": [
    {
     "name": "stdout",
     "output_type": "stream",
     "text": [
      "The average number of casualties in Dumfries and Galloway in 2021 was 1.37.\n"
     ]
    }
   ],
   "source": [
    "accident_2021 = accident[(accident['District Area'] == 'Dumfries and Galloway') & (accident['Year'] == 2021)]\n",
    "mean_casualties = round(accident_2021['Number_of_Casualties'].mean(),2)\n",
    "print(f\"The average number of casualties in Dumfries and Galloway in 2021 was {mean_casualties}.\")"
   ]
  },
  {
   "cell_type": "markdown",
   "id": "d32a2e5a-3316-44d0-b6e9-2394f57e622d",
   "metadata": {},
   "source": [
    "<h1> Insights 5: Which vehicle type is most involved in accidents? "
   ]
  },
  {
   "cell_type": "code",
   "execution_count": 56,
   "id": "e3a7dec2-d9b4-4bd9-baf5-ca376c859899",
   "metadata": {},
   "outputs": [
    {
     "name": "stdout",
     "output_type": "stream",
     "text": [
      "The Car has the most number of casualties happened during Accident.Vehicle_Type\n",
      "Agricultural vehicle                       1947\n",
      "Bus or coach (17 or more pass seats)      25878\n",
      "Car                                      497992\n",
      "Data missing or out of range                  6\n",
      "Goods 7.5 tonnes mgw and over             17307\n",
      "Goods over 3.5t. and under 7.5t            6096\n",
      "Minibus (8 - 16 passenger seats)           1976\n",
      "Motorcycle 125cc and under                15269\n",
      "Motorcycle 50cc and under                  7603\n",
      "Motorcycle over 125cc and up to 500cc      7656\n",
      "Motorcycle over 500cc                     25657\n",
      "Other vehicle                              5637\n",
      "Pedal cycle                                 197\n",
      "Ridden horse                                  4\n",
      "Taxi/Private hire car                     13294\n",
      "Van / Goods 3.5 tonnes mgw or under       34160\n",
      "Name: Number_of_Casualties, dtype: int64\n"
     ]
    }
   ],
   "source": [
    "accident_Road = accident.groupby(['Vehicle_Type'])['Number_of_Casualties'].count()\n",
    "print(f\"The Car has the most number of casualties happened during Accident.{accident_Road}\")\n"
   ]
  },
  {
   "cell_type": "markdown",
   "id": "adcba082",
   "metadata": {},
   "source": [
    "<h1> Insight 6: Do larger vehicle type influence the accidents in which road type?"
   ]
  },
  {
   "cell_type": "code",
   "execution_count": 59,
   "id": "2e94a652",
   "metadata": {},
   "outputs": [
    {
     "name": "stdout",
     "output_type": "stream",
     "text": [
      "Bigger vehicles might be more likely to have accidents on certain roads.\n"
     ]
    },
    {
     "data": {
      "text/plain": [
       "Vehicle_Type                         Road_Type         \n",
       "Agricultural vehicle                 Dual carriageway        293\n",
       "                                     One way street           49\n",
       "                                     Road_Type                13\n",
       "                                     Roundabout              129\n",
       "                                     Single carriageway     1436\n",
       "                                                           ...  \n",
       "Van / Goods 3.5 tonnes mgw or under  One way street          723\n",
       "                                     Road_Type               215\n",
       "                                     Roundabout             2294\n",
       "                                     Single carriageway    25460\n",
       "                                     Slip road               361\n",
       "Name: Number_of_Casualties, Length: 87, dtype: int64"
      ]
     },
     "execution_count": 59,
     "metadata": {},
     "output_type": "execute_result"
    }
   ],
   "source": [
    "accident_Road = accident.groupby(['Vehicle_Type','Road_Type'])['Number_of_Casualties'].count()\n",
    "print(\"Bigger vehicles might be more likely to have accidents on certain roads.\")\n",
    "accident_Road"
   ]
  },
  {
   "cell_type": "markdown",
   "id": "88bb76a2-4313-4443-876c-04d5fa08e8b3",
   "metadata": {},
   "source": [
    "<h1>Insights 7: The average latitude is  52.55, suggesting that the data is concentrated in a specific region. The Standard deviation of 1.40 suggest a wide spread of latitue. </h1>"
   ]
  },
  {
   "cell_type": "code",
   "execution_count": 23,
   "id": "a04a7351-02d6-41c2-8bf4-f79d04090cb5",
   "metadata": {},
   "outputs": [
    {
     "data": {
      "text/plain": [
       "np.float64(1.4068956719685075)"
      ]
     },
     "execution_count": 23,
     "metadata": {},
     "output_type": "execute_result"
    }
   ],
   "source": [
    "avg_Latitude = accident['Latitude'].mean()\n",
    "std_Latitude = accident['Latitude'].std()\n",
    "avg_Latitude\n",
    "std_Latitude"
   ]
  },
  {
   "cell_type": "markdown",
   "id": "9e6140e8-2721-4fbc-a38b-fe71e14141fa",
   "metadata": {},
   "source": [
    "<h1>Insight 8: The average longitude is -1.43, indicating a location in the western hemisphere. The standard deviation of 1.38 is similar spread to latitude</h1>"
   ]
  },
  {
   "cell_type": "code",
   "execution_count": 24,
   "id": "51e4ae21-e3f3-48db-8f10-48f88e22bc95",
   "metadata": {},
   "outputs": [
    {
     "data": {
      "text/plain": [
       "np.float64(1.3833052405598685)"
      ]
     },
     "execution_count": 24,
     "metadata": {},
     "output_type": "execute_result"
    }
   ],
   "source": [
    "avg_Longitude = accident['Longitude'].mean()\n",
    "std_Longitude = accident['Longitude'].std()\n",
    "std_Longitude"
   ]
  },
  {
   "cell_type": "markdown",
   "id": "6c531faf-20fb-44c1-a440-90b52ae8bef5",
   "metadata": {},
   "source": [
    "<h1>Insights 9: The average number of casualties is 1.36, indicating that most accidents involve a small number of casualties. The Standard deviation of 0.82 refers that a significant variation in the number of casualties.</h1>"
   ]
  },
  {
   "cell_type": "code",
   "execution_count": 25,
   "id": "0878716e-24b0-4df4-a927-eb3bb365eb77",
   "metadata": {},
   "outputs": [
    {
     "data": {
      "text/plain": [
       "np.float64(0.8248469447164726)"
      ]
     },
     "execution_count": 25,
     "metadata": {},
     "output_type": "execute_result"
    }
   ],
   "source": [
    "avg_casualty = accident['Number_of_Casualties'].mean()\n",
    "std_casualty = accident['Number_of_Casualties'].std()\n",
    "avg_casualty\n",
    "std_casualty"
   ]
  },
  {
   "cell_type": "markdown",
   "id": "466d14a7-b8e6-4596-b158-3a2b92a159f9",
   "metadata": {},
   "source": [
    "<h1>Insight 10: What is the maximum number of casualties reported in each year?</h1>"
   ]
  },
  {
   "cell_type": "code",
   "execution_count": 26,
   "id": "e3ac7bfd-6164-4fb1-8ca6-0795882a14f2",
   "metadata": {},
   "outputs": [
    {
     "name": "stdout",
     "output_type": "stream",
     "text": [
      "The maximum number of casualties happended each year are Year\n",
      "2019    68\n",
      "2020    62\n",
      "2021    48\n",
      "2022    43\n",
      "Name: Number_of_Casualties, dtype: int64:\n"
     ]
    }
   ],
   "source": [
    "max_casualty = accident.groupby(accident['Year'])['Number_of_Casualties'].max()\n",
    "max_casualty\n",
    "print(f'The maximum number of casualties happended each year are {max_casualty}:')"
   ]
  },
  {
   "cell_type": "markdown",
   "id": "3cd2f5e8-997b-4d6c-8983-c9c8b402bab1",
   "metadata": {},
   "source": [
    "<h1>Insight 11: What is the relationship between the number of casualties and vehicles involved over time?</h1>"
   ]
  },
  {
   "cell_type": "code",
   "execution_count": 27,
   "id": "a6c81cad-e987-45a5-b6c2-90ef3fbea2a2",
   "metadata": {
    "scrolled": true
   },
   "outputs": [
    {
     "name": "stdout",
     "output_type": "stream",
     "text": [
      "The number of casualties lessen from year 2019 to 2022.      Number_of_Casualties                                                   \\\n",
      "Month                   1      2      3      4      5      6      7      8    \n",
      "Year                                                                          \n",
      "2019                 20762  17872  20349  19232  21747  21209  21846  21007   \n",
      "2020                 18940  19189  18337  18286  19422  19129  19761  18680   \n",
      "2021                 18173  14648  17815  17335  18852  18728  19682  18797   \n",
      "2022                 13163  14804  16575  15767  16775  17230  17201  16796   \n",
      "\n",
      "                     ... Number_of_Vehicles                              \\\n",
      "Month     9      10  ...                 3      4      5      6      7    \n",
      "Year                 ...                                                  \n",
      "2019   20709  20877  ...              27707  26107  29213  28714  29372   \n",
      "2020   19388  21029  ...              24532  24817  26145  26065  26998   \n",
      "2021   18456  20109  ...              23949  23364  25268  25715  26263   \n",
      "2022   17500  18287  ...              22568  21340  22623  23680  23318   \n",
      "\n",
      "                                          \n",
      "Month     8      9      10     11     12  \n",
      "Year                                      \n",
      "2019   27911  28281  28466  30266  26643  \n",
      "2020   24589  26434  28735  26876  24625  \n",
      "2021   24788  25475  27057  28491  24779  \n",
      "2022   22418  23975  24867  25019  17268  \n",
      "\n",
      "[4 rows x 24 columns]\n"
     ]
    }
   ],
   "source": [
    "monthly_casualty = accident.groupby(['Year','Month'])[['Number_of_Casualties', 'Number_of_Vehicles']].sum().unstack()\n",
    "monthly_casualty\n",
    "print(f'The number of casualties lessen from year 2019 to 2022.{monthly_casualty}')"
   ]
  },
  {
   "cell_type": "markdown",
   "id": "5ffe7a8b-2e66-4581-a021-400d2587d470",
   "metadata": {},
   "source": [
    "<h1>Insights 12: What is the average number of casualties per month?</h1>"
   ]
  },
  {
   "cell_type": "code",
   "execution_count": 60,
   "id": "a06c1086-acfa-48b6-8132-aa6d394cee75",
   "metadata": {},
   "outputs": [
    {
     "name": "stdout",
     "output_type": "stream",
     "text": [
      "The evarage number of casualties per month is:16.28566100292791\n"
     ]
    }
   ],
   "source": [
    "avg_casualty_month = accident.groupby(accident['Month'])['Number_of_Casualties'].mean().sum()\n",
    "print(f'The evarage number of casualties per month is:{avg_casualty_month}')"
   ]
  },
  {
   "cell_type": "markdown",
   "id": "afceb2b1-2a75-44d2-8629-f52b21b8525c",
   "metadata": {},
   "source": [
    "<h1>Insights 13: Does number of casualties has changed over time?</h1>"
   ]
  },
  {
   "cell_type": "code",
   "execution_count": 64,
   "id": "e81dc464-d032-4e1c-bd46-8302a0854681",
   "metadata": {},
   "outputs": [
    {
     "name": "stdout",
     "output_type": "stream",
     "text": [
      "The number of accidents has been decreasing each year.\n"
     ]
    },
    {
     "data": {
      "text/plain": [
       "Year\n",
       "2019    247780\n",
       "2020    230905\n",
       "2021    222146\n",
       "2022    195737\n",
       "Name: Number_of_Casualties, dtype: int64"
      ]
     },
     "execution_count": 64,
     "metadata": {},
     "output_type": "execute_result"
    }
   ],
   "source": [
    "year_casualty = accident.groupby(accident['Year'])['Number_of_Casualties'].sum()\n",
    "print('The number of accidents has been decreasing each year.')\n",
    "year_casualty"
   ]
  },
  {
   "cell_type": "markdown",
   "id": "0a2a83e0-ce11-48f8-b95c-ff088f7930ed",
   "metadata": {},
   "source": [
    "<h1>Insight 14: Are there other variables that might be more strongly correlated with the number of casualties, such as vehicle type, road conditions, or driver behavior?</h1>"
   ]
  },
  {
   "cell_type": "code",
   "execution_count": 67,
   "id": "70c7c61a-0704-4d00-aa43-b7f100363488",
   "metadata": {},
   "outputs": [
    {
     "name": "stdout",
     "output_type": "stream",
     "text": [
      "0.23 There is correlation between the number of casualties and the number of vehicles but it is weak.\n"
     ]
    }
   ],
   "source": [
    "casualty_vehicle = accident['Number_of_Casualties'].corr(accident['Number_of_Vehicles'])\n",
    "rounded_correlation = round(casualty_vehicle, 2)\n",
    "print(f'{rounded_correlation} There is correlation between the number of casualties and the number of vehicles but it is weak.')"
   ]
  },
  {
   "cell_type": "markdown",
   "id": "a282a7f9-8d9e-4e26-9335-e3464d719537",
   "metadata": {},
   "source": [
    "<h1>Insight 15:Why are accidents more severe during low-light conditions?</h1>"
   ]
  },
  {
   "cell_type": "code",
   "execution_count": 70,
   "id": "4a0a4751-6ac1-407b-b6b7-16e4d8a951dd",
   "metadata": {},
   "outputs": [
    {
     "name": "stdout",
     "output_type": "stream",
     "text": [
      "Accidents are more severe during low-light conditions.\n"
     ]
    },
    {
     "data": {
      "text/html": [
       "<div>\n",
       "<style scoped>\n",
       "    .dataframe tbody tr th:only-of-type {\n",
       "        vertical-align: middle;\n",
       "    }\n",
       "\n",
       "    .dataframe tbody tr th {\n",
       "        vertical-align: top;\n",
       "    }\n",
       "\n",
       "    .dataframe thead th {\n",
       "        text-align: right;\n",
       "    }\n",
       "</style>\n",
       "<table border=\"1\" class=\"dataframe\">\n",
       "  <thead>\n",
       "    <tr style=\"text-align: right;\">\n",
       "      <th>Accident_Severity</th>\n",
       "      <th>Fatal</th>\n",
       "      <th>Serious</th>\n",
       "      <th>Slight</th>\n",
       "    </tr>\n",
       "    <tr>\n",
       "      <th>Light_Conditions</th>\n",
       "      <th></th>\n",
       "      <th></th>\n",
       "      <th></th>\n",
       "    </tr>\n",
       "  </thead>\n",
       "  <tbody>\n",
       "    <tr>\n",
       "      <th>Darkness - lighting unknown</th>\n",
       "      <td>68</td>\n",
       "      <td>794</td>\n",
       "      <td>5622</td>\n",
       "    </tr>\n",
       "    <tr>\n",
       "      <th>Darkness - lights lit</th>\n",
       "      <td>1860</td>\n",
       "      <td>19130</td>\n",
       "      <td>108345</td>\n",
       "    </tr>\n",
       "    <tr>\n",
       "      <th>Darkness - lights unlit</th>\n",
       "      <td>45</td>\n",
       "      <td>360</td>\n",
       "      <td>2138</td>\n",
       "    </tr>\n",
       "    <tr>\n",
       "      <th>Darkness - no lighting</th>\n",
       "      <td>1612</td>\n",
       "      <td>7174</td>\n",
       "      <td>28651</td>\n",
       "    </tr>\n",
       "    <tr>\n",
       "      <th>Daylight</th>\n",
       "      <td>5076</td>\n",
       "      <td>60759</td>\n",
       "      <td>419045</td>\n",
       "    </tr>\n",
       "  </tbody>\n",
       "</table>\n",
       "</div>"
      ],
      "text/plain": [
       "Accident_Severity            Fatal  Serious  Slight\n",
       "Light_Conditions                                   \n",
       "Darkness - lighting unknown     68      794    5622\n",
       "Darkness - lights lit         1860    19130  108345\n",
       "Darkness - lights unlit         45      360    2138\n",
       "Darkness - no lighting        1612     7174   28651\n",
       "Daylight                      5076    60759  419045"
      ]
     },
     "execution_count": 70,
     "metadata": {},
     "output_type": "execute_result"
    }
   ],
   "source": [
    "severity_light = accident.groupby('Light_Conditions')['Accident_Severity'].value_counts().unstack()\n",
    "print('Accidents are more severe during low-light conditions.')\n",
    "severity_light"
   ]
  },
  {
   "cell_type": "markdown",
   "id": "de38e203-7f98-485f-8d33-7d05614e6f32",
   "metadata": {},
   "source": [
    "<h1>Insights 16: How accident severity varies with different weather conditions?</h1>"
   ]
  },
  {
   "cell_type": "code",
   "execution_count": 71,
   "id": "d0d6376d-f8d8-4864-8813-e0e4c6938bc2",
   "metadata": {},
   "outputs": [
    {
     "name": "stdout",
     "output_type": "stream",
     "text": [
      "While accidents are more frequent in rainy weather, accidents occurring in snowy conditions are significantly more likely to result in serious injuries or fatalities.\n"
     ]
    },
    {
     "data": {
      "text/html": [
       "<div>\n",
       "<style scoped>\n",
       "    .dataframe tbody tr th:only-of-type {\n",
       "        vertical-align: middle;\n",
       "    }\n",
       "\n",
       "    .dataframe tbody tr th {\n",
       "        vertical-align: top;\n",
       "    }\n",
       "\n",
       "    .dataframe thead th {\n",
       "        text-align: right;\n",
       "    }\n",
       "</style>\n",
       "<table border=\"1\" class=\"dataframe\">\n",
       "  <thead>\n",
       "    <tr style=\"text-align: right;\">\n",
       "      <th>Accident_Severity</th>\n",
       "      <th>Fatal</th>\n",
       "      <th>Serious</th>\n",
       "      <th>Slight</th>\n",
       "    </tr>\n",
       "    <tr>\n",
       "      <th>Weather_Conditions</th>\n",
       "      <th></th>\n",
       "      <th></th>\n",
       "      <th></th>\n",
       "    </tr>\n",
       "  </thead>\n",
       "  <tbody>\n",
       "    <tr>\n",
       "      <th>Fine + high winds</th>\n",
       "      <td>175</td>\n",
       "      <td>1245</td>\n",
       "      <td>7134</td>\n",
       "    </tr>\n",
       "    <tr>\n",
       "      <th>Fine no high winds</th>\n",
       "      <td>7100</td>\n",
       "      <td>72046</td>\n",
       "      <td>441739</td>\n",
       "    </tr>\n",
       "    <tr>\n",
       "      <th>Fog or mist</th>\n",
       "      <td>82</td>\n",
       "      <td>483</td>\n",
       "      <td>2963</td>\n",
       "    </tr>\n",
       "    <tr>\n",
       "      <th>Other</th>\n",
       "      <td>165</td>\n",
       "      <td>1801</td>\n",
       "      <td>15184</td>\n",
       "    </tr>\n",
       "    <tr>\n",
       "      <th>Raining + high winds</th>\n",
       "      <td>145</td>\n",
       "      <td>1261</td>\n",
       "      <td>8209</td>\n",
       "    </tr>\n",
       "    <tr>\n",
       "      <th>Raining no high winds</th>\n",
       "      <td>848</td>\n",
       "      <td>9468</td>\n",
       "      <td>69380</td>\n",
       "    </tr>\n",
       "    <tr>\n",
       "      <th>Snowing + high winds</th>\n",
       "      <td>3</td>\n",
       "      <td>109</td>\n",
       "      <td>773</td>\n",
       "    </tr>\n",
       "    <tr>\n",
       "      <th>Snowing no high winds</th>\n",
       "      <td>36</td>\n",
       "      <td>565</td>\n",
       "      <td>5637</td>\n",
       "    </tr>\n",
       "    <tr>\n",
       "      <th>Weather_Conditions</th>\n",
       "      <td>107</td>\n",
       "      <td>1239</td>\n",
       "      <td>12782</td>\n",
       "    </tr>\n",
       "  </tbody>\n",
       "</table>\n",
       "</div>"
      ],
      "text/plain": [
       "Accident_Severity      Fatal  Serious  Slight\n",
       "Weather_Conditions                           \n",
       "Fine + high winds        175     1245    7134\n",
       "Fine no high winds      7100    72046  441739\n",
       "Fog or mist               82      483    2963\n",
       "Other                    165     1801   15184\n",
       "Raining + high winds     145     1261    8209\n",
       "Raining no high winds    848     9468   69380\n",
       "Snowing + high winds       3      109     773\n",
       "Snowing no high winds     36      565    5637\n",
       "Weather_Conditions       107     1239   12782"
      ]
     },
     "execution_count": 71,
     "metadata": {},
     "output_type": "execute_result"
    }
   ],
   "source": [
    "severity_weather = accident.groupby('Weather_Conditions')['Accident_Severity'].value_counts().unstack()\n",
    "print('While accidents are more frequent in rainy weather, accidents occurring in snowy conditions are significantly more likely to result in serious injuries or fatalities.')\n",
    "severity_weather"
   ]
  },
  {
   "cell_type": "markdown",
   "id": "afa3d1b0-bdbd-4624-9f64-0e96f0d20dad",
   "metadata": {},
   "source": [
    "<h1>Insights 17: What are the District and road types with the highest accidents frequencies?</h1>"
   ]
  },
  {
   "cell_type": "code",
   "execution_count": 76,
   "id": "05791b9b-f234-4dbb-84bd-6f8596c1ad63",
   "metadata": {},
   "outputs": [
    {
     "name": "stdout",
     "output_type": "stream",
     "text": [
      "While Birmingham has the highest overall number of accidents, Birmingham experiences a disproportionately high number of accidents on Single carriageway, suggesting a potential need for targeted safety improvements in that specific area.\n"
     ]
    }
   ],
   "source": [
    "accident_counts = accident.groupby(['District Area', 'Road_Type'])['Index'].count().unstack()\n",
    "highest_district = accident_counts.sum(axis=1).idxmax()\n",
    "highest_road_type = accident_counts.loc[highest_district].idxmax()\n",
    "print(f'While {highest_district} has the highest overall number of accidents, {highest_district} experiences a disproportionately high number of accidents on {highest_road_type}, suggesting a potential need for targeted safety improvements in that specific area.')"
   ]
  },
  {
   "cell_type": "markdown",
   "id": "6827d672-b1ed-425e-81f8-f05bf8090418",
   "metadata": {},
   "source": [
    "<h1>Insights 18: Areas with higher casualty rates per accident, suggesting potentially more dangerous road conditions. </h1>"
   ]
  },
  {
   "cell_type": "code",
   "execution_count": 77,
   "id": "84657a52-08ba-4311-9a79-4bd68f23d990",
   "metadata": {},
   "outputs": [
    {
     "name": "stdout",
     "output_type": "stream",
     "text": [
      "The district and road type with the highest average number of casualties per accident is ('Corby', 'One way street') with an average of 4.0 casualties per accident. This suggests potentially more dangerous road conditions in that specific area.\n"
     ]
    }
   ],
   "source": [
    "avg_casualties = accident.groupby(['District Area', 'Road_Type'])['Number_of_Casualties'].mean()\n",
    "highest_casualty_area = avg_casualties.idxmax()\n",
    "highest_casualty_rate = avg_casualties.max()\n",
    "print(f\"The district and road type with the highest average number of casualties per accident is {highest_casualty_area} with an average of {highest_casualty_rate} casualties per accident. This suggests potentially more dangerous road conditions in that specific area.\")"
   ]
  },
  {
   "cell_type": "markdown",
   "id": "7e750497-fbb9-4d49-a9fc-7fb23f022cdd",
   "metadata": {},
   "source": [
    "<h1>Insights 19: Which combinations of weather and road surface conditions lead to the highest average number of casualties?</h1>"
   ]
  },
  {
   "cell_type": "code",
   "execution_count": 78,
   "id": "fdf06dfb-9bc8-4503-8ef0-e3999db3af8a",
   "metadata": {},
   "outputs": [
    {
     "name": "stdout",
     "output_type": "stream",
     "text": [
      "The combination of weather and road surface conditions with the highest average number of casualties per accident is ('Snowing + high winds', 'Dry') with an average of 2.5 casualties per accident. This suggests that driving under these conditions poses a significant risk.\n"
     ]
    }
   ],
   "source": [
    "avg_casualties = accident.groupby(['Weather_Conditions', 'Road_Surface_Conditions'])['Number_of_Casualties'].mean()\n",
    "highest_casualty_combo = avg_casualties.idxmax()\n",
    "highest_casualty_rate = avg_casualties.max()\n",
    "print(f\"The combination of weather and road surface conditions with the highest average number of casualties per accident is {highest_casualty_combo} with an average of {highest_casualty_rate} casualties per accident. This suggests that driving under these conditions poses a significant risk.\")"
   ]
  },
  {
   "cell_type": "markdown",
   "id": "448c8af8-3ad9-4ca8-909d-f756336ce0c7",
   "metadata": {},
   "source": [
    "<h1> Insights 20: Districts with high accident rates in either Urban or Rural Areas."
   ]
  },
  {
   "cell_type": "code",
   "execution_count": 36,
   "id": "5fc57ea2",
   "metadata": {},
   "outputs": [
    {
     "data": {
      "text/html": [
       "<div>\n",
       "<style scoped>\n",
       "    .dataframe tbody tr th:only-of-type {\n",
       "        vertical-align: middle;\n",
       "    }\n",
       "\n",
       "    .dataframe tbody tr th {\n",
       "        vertical-align: top;\n",
       "    }\n",
       "\n",
       "    .dataframe thead th {\n",
       "        text-align: right;\n",
       "    }\n",
       "</style>\n",
       "<table border=\"1\" class=\"dataframe\">\n",
       "  <thead>\n",
       "    <tr style=\"text-align: right;\">\n",
       "      <th>Urban_or_Rural_Area</th>\n",
       "      <th>Rural</th>\n",
       "      <th>Unallocated</th>\n",
       "      <th>Urban</th>\n",
       "    </tr>\n",
       "    <tr>\n",
       "      <th>District Area</th>\n",
       "      <th></th>\n",
       "      <th></th>\n",
       "      <th></th>\n",
       "    </tr>\n",
       "  </thead>\n",
       "  <tbody>\n",
       "    <tr>\n",
       "      <th>Aberdeen City</th>\n",
       "      <td>207.0</td>\n",
       "      <td>NaN</td>\n",
       "      <td>1116.0</td>\n",
       "    </tr>\n",
       "    <tr>\n",
       "      <th>Aberdeenshire</th>\n",
       "      <td>1781.0</td>\n",
       "      <td>NaN</td>\n",
       "      <td>149.0</td>\n",
       "    </tr>\n",
       "    <tr>\n",
       "      <th>Adur</th>\n",
       "      <td>197.0</td>\n",
       "      <td>NaN</td>\n",
       "      <td>422.0</td>\n",
       "    </tr>\n",
       "    <tr>\n",
       "      <th>Allerdale</th>\n",
       "      <td>880.0</td>\n",
       "      <td>NaN</td>\n",
       "      <td>248.0</td>\n",
       "    </tr>\n",
       "    <tr>\n",
       "      <th>Alnwick</th>\n",
       "      <td>232.0</td>\n",
       "      <td>NaN</td>\n",
       "      <td>NaN</td>\n",
       "    </tr>\n",
       "    <tr>\n",
       "      <th>...</th>\n",
       "      <td>...</td>\n",
       "      <td>...</td>\n",
       "      <td>...</td>\n",
       "    </tr>\n",
       "    <tr>\n",
       "      <th>Wychavon</th>\n",
       "      <td>1088.0</td>\n",
       "      <td>NaN</td>\n",
       "      <td>273.0</td>\n",
       "    </tr>\n",
       "    <tr>\n",
       "      <th>Wycombe</th>\n",
       "      <td>739.0</td>\n",
       "      <td>NaN</td>\n",
       "      <td>990.0</td>\n",
       "    </tr>\n",
       "    <tr>\n",
       "      <th>Wyre</th>\n",
       "      <td>480.0</td>\n",
       "      <td>NaN</td>\n",
       "      <td>758.0</td>\n",
       "    </tr>\n",
       "    <tr>\n",
       "      <th>Wyre Forest</th>\n",
       "      <td>419.0</td>\n",
       "      <td>NaN</td>\n",
       "      <td>550.0</td>\n",
       "    </tr>\n",
       "    <tr>\n",
       "      <th>York</th>\n",
       "      <td>706.0</td>\n",
       "      <td>NaN</td>\n",
       "      <td>1191.0</td>\n",
       "    </tr>\n",
       "  </tbody>\n",
       "</table>\n",
       "<p>422 rows × 3 columns</p>\n",
       "</div>"
      ],
      "text/plain": [
       "Urban_or_Rural_Area   Rural  Unallocated   Urban\n",
       "District Area                                   \n",
       "Aberdeen City         207.0          NaN  1116.0\n",
       "Aberdeenshire        1781.0          NaN   149.0\n",
       "Adur                  197.0          NaN   422.0\n",
       "Allerdale             880.0          NaN   248.0\n",
       "Alnwick               232.0          NaN     NaN\n",
       "...                     ...          ...     ...\n",
       "Wychavon             1088.0          NaN   273.0\n",
       "Wycombe               739.0          NaN   990.0\n",
       "Wyre                  480.0          NaN   758.0\n",
       "Wyre Forest           419.0          NaN   550.0\n",
       "York                  706.0          NaN  1191.0\n",
       "\n",
       "[422 rows x 3 columns]"
      ]
     },
     "execution_count": 36,
     "metadata": {},
     "output_type": "execute_result"
    }
   ],
   "source": [
    "district_counts = accident.groupby(['District Area', 'Urban_or_Rural_Area'])['Index'].count().unstack()\n",
    "district_counts"
   ]
  },
  {
   "cell_type": "code",
   "execution_count": null,
   "id": "b952a878",
   "metadata": {},
   "outputs": [],
   "source": []
  }
 ],
 "metadata": {
  "kernelspec": {
   "display_name": "Python 3 (ipykernel)",
   "language": "python",
   "name": "python3"
  },
  "language_info": {
   "codemirror_mode": {
    "name": "ipython",
    "version": 3
   },
   "file_extension": ".py",
   "mimetype": "text/x-python",
   "name": "python",
   "nbconvert_exporter": "python",
   "pygments_lexer": "ipython3",
   "version": "3.13.2"
  }
 },
 "nbformat": 4,
 "nbformat_minor": 5
}
